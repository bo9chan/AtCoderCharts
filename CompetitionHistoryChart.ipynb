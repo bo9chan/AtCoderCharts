{
 "cells": [
  {
   "cell_type": "markdown",
   "metadata": {},
   "source": [
    "### AtCoder Competition History Chart Maker"
   ]
  },
  {
   "cell_type": "code",
   "execution_count": null,
   "metadata": {
    "ExecuteTime": {
     "end_time": "2021-12-10T15:17:23.631651Z",
     "start_time": "2021-12-10T15:17:12.186126Z"
    }
   },
   "outputs": [],
   "source": [
    "import numpy as np\n",
    "import matplotlib.pyplot as plt\n",
    "from matplotlib.ticker import MultipleLocator\n",
    "import pandas as pd\n",
    "\n",
    "plt.rcParams['font.size'] = 16\n",
    "plt.rcParams['figure.figsize'] = (10, 5)\n",
    "plt.rcParams['figure.facecolor'] = 'w'\n",
    "\n",
    "print(\"Enter AtCoder UserName:\")\n",
    "USERNAME = input().strip()\n",
    "try:\n",
    "    # データ取得\n",
    "    url = f'https://atcoder.jp/users/{USERNAME}/history/json'\n",
    "    df = pd.read_json(url, convert_dates=['EndTime'])\n",
    "    df.set_index('EndTime', inplace=True)\n",
    "    df = df.query('IsRated').copy()  # Ratedのみレコードを抽出\n",
    "    # パフォーマンス補正  https://qiita.com/anqooqie/items/92005e337a0d2569bdbd#性質4-初心者への慈悲\n",
    "    func = lambda p: int(400.0 / np.e**((400.0 - p)/400.0)) if p < 400 else p\n",
    "    df['Perf'] = df['Performance'].apply(func)\n",
    "    print('Success!')\n",
    "    # グラフ作成\n",
    "    ax = df[['NewRating']].plot(marker='o', c='C0')\n",
    "    df[['Perf']].plot(ax=ax, c='C3', ls=':', marker='^', ylim=(0, None), grid=True)\n",
    "    ax.set_xlabel('')\n",
    "    if df[['NewRating', 'Perf']].max().max() > 400:\n",
    "        ax.yaxis.set_major_locator(MultipleLocator(400))\n",
    "    ax.legend(['Rating', 'Performance'], bbox_to_anchor=(1, 1), loc=2)\n",
    "    _ = ax.set_title(USERNAME)\n",
    "except:\n",
    "    print('Error! No Data.')"
   ]
  }
 ],
 "metadata": {
  "kernelspec": {
   "display_name": "Python 3",
   "language": "python",
   "name": "python3"
  },
  "language_info": {
   "codemirror_mode": {
    "name": "ipython",
    "version": 3
   },
   "file_extension": ".py",
   "mimetype": "text/x-python",
   "name": "python",
   "nbconvert_exporter": "python",
   "pygments_lexer": "ipython3",
   "version": "3.8.8"
  },
  "toc": {
   "base_numbering": 1,
   "nav_menu": {},
   "number_sections": false,
   "sideBar": true,
   "skip_h1_title": true,
   "title_cell": "Table of Contents",
   "title_sidebar": "Contents",
   "toc_cell": false,
   "toc_position": {
    "height": "calc(100% - 180px)",
    "left": "10px",
    "top": "150px",
    "width": "195.2px"
   },
   "toc_section_display": true,
   "toc_window_display": true
  },
  "varInspector": {
   "cols": {
    "lenName": 16,
    "lenType": 16,
    "lenVar": 40
   },
   "kernels_config": {
    "python": {
     "delete_cmd_postfix": "",
     "delete_cmd_prefix": "del ",
     "library": "var_list.py",
     "varRefreshCmd": "print(var_dic_list())"
    },
    "r": {
     "delete_cmd_postfix": ") ",
     "delete_cmd_prefix": "rm(",
     "library": "var_list.r",
     "varRefreshCmd": "cat(var_dic_list()) "
    }
   },
   "types_to_exclude": [
    "module",
    "function",
    "builtin_function_or_method",
    "instance",
    "_Feature"
   ],
   "window_display": false
  }
 },
 "nbformat": 4,
 "nbformat_minor": 4
}
